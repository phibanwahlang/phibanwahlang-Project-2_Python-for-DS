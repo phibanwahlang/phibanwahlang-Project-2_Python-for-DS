{
 "cells": [
  {
   "cell_type": "markdown",
   "id": "9ca07e26",
   "metadata": {},
   "source": [
    "## Problem Statement\n",
    "Based on the given marketing campigan dataset, segment the similar customers into suitable clusters. Analyze the clusters and provide your insights to help the organization promote their business."
   ]
  },
  {
   "cell_type": "markdown",
   "id": "96f4b652",
   "metadata": {},
   "source": [
    "## Context:\n",
    "- Customer segmentation is one of the most important marketing tools at your disposal, because it can help a business to better understand its target audience.This is because it groups customers based on common characteristics.\n",
    "- Segmentation can be based on the customer’s habits and lifestyle, in particular, their buying habits. Different age groups, for example, tend to spend their money in different ways, so brands need to be aware of who exactly is buying their product.\n",
    "- Segmentation also focuses more on the personality of the consumer, including their opinions, interests, reviews, and rating. Breaking down a large customer base into more manageable clusters, making it easier to identify your target audience and launch campaigns and promote the business to the most relevant people"
   ]
  },
  {
   "cell_type": "markdown",
   "id": "8dc950d4",
   "metadata": {},
   "source": [
    "## 1 Import required libraries"
   ]
  },
  {
   "cell_type": "code",
   "execution_count": 181,
   "id": "62930bd1",
   "metadata": {},
   "outputs": [],
   "source": [
    "import pandas as pd\n",
    "import numpy as np\n",
    "import matplotlib.pyplot as plt\n",
    "import seaborn as sns\n",
    "import warnings\n",
    "warnings.filterwarnings('ignore')\n",
    "\n",
    "from sklearn.preprocessing import StandardScaler,LabelEncoder\n",
    "from sklearn.linear_model import LogisticRegression\n",
    "from scipy import stats\n",
    "from sklearn.cluster import KMeans\n",
    "from scipy.stats import zscore\n",
    "from scipy.spatial import distance\n",
    "from scipy.cluster.hierarchy import linkage, dendrogram, fcluster\n",
    "from sklearn.cluster import AgglomerativeClustering\n",
    "from sklearn.decomposition import PCA\n",
    "from sklearn.model_selection import train_test_split\n",
    "from sklearn import preprocessing\n",
    "from sklearn.preprocessing import Normalizer"
   ]
  },
  {
   "cell_type": "markdown",
   "id": "5ce7ef63",
   "metadata": {},
   "source": [
    "# Load the dataset and display a sample of five rows of the data frame."
   ]
  },
  {
   "cell_type": "code",
   "execution_count": 182,
   "id": "7ab62a1c",
   "metadata": {},
   "outputs": [
    {
     "data": {
      "text/html": [
       "<div>\n",
       "<style scoped>\n",
       "    .dataframe tbody tr th:only-of-type {\n",
       "        vertical-align: middle;\n",
       "    }\n",
       "\n",
       "    .dataframe tbody tr th {\n",
       "        vertical-align: top;\n",
       "    }\n",
       "\n",
       "    .dataframe thead th {\n",
       "        text-align: right;\n",
       "    }\n",
       "</style>\n",
       "<table border=\"1\" class=\"dataframe\">\n",
       "  <thead>\n",
       "    <tr style=\"text-align: right;\">\n",
       "      <th></th>\n",
       "      <th>Unnamed: 0</th>\n",
       "      <th>fit</th>\n",
       "      <th>user_id</th>\n",
       "      <th>bust size</th>\n",
       "      <th>item_id</th>\n",
       "      <th>weight</th>\n",
       "      <th>rating</th>\n",
       "      <th>rented for</th>\n",
       "      <th>review_text</th>\n",
       "      <th>body type</th>\n",
       "      <th>review_summary</th>\n",
       "      <th>category</th>\n",
       "      <th>height</th>\n",
       "      <th>size</th>\n",
       "      <th>age</th>\n",
       "      <th>review_date</th>\n",
       "    </tr>\n",
       "  </thead>\n",
       "  <tbody>\n",
       "    <tr>\n",
       "      <th>0</th>\n",
       "      <td>0</td>\n",
       "      <td>fit</td>\n",
       "      <td>420272</td>\n",
       "      <td>34d</td>\n",
       "      <td>2260466</td>\n",
       "      <td>137lbs</td>\n",
       "      <td>10.0</td>\n",
       "      <td>vacation</td>\n",
       "      <td>An adorable romper! Belt and zipper were a lit...</td>\n",
       "      <td>hourglass</td>\n",
       "      <td>So many compliments!</td>\n",
       "      <td>romper</td>\n",
       "      <td>5' 8\"</td>\n",
       "      <td>14</td>\n",
       "      <td>28.0</td>\n",
       "      <td>April 20, 2016</td>\n",
       "    </tr>\n",
       "    <tr>\n",
       "      <th>1</th>\n",
       "      <td>1</td>\n",
       "      <td>fit</td>\n",
       "      <td>273551</td>\n",
       "      <td>34b</td>\n",
       "      <td>153475</td>\n",
       "      <td>132lbs</td>\n",
       "      <td>10.0</td>\n",
       "      <td>other</td>\n",
       "      <td>I rented this dress for a photo shoot. The the...</td>\n",
       "      <td>straight &amp; narrow</td>\n",
       "      <td>I felt so glamourous!!!</td>\n",
       "      <td>gown</td>\n",
       "      <td>5' 6\"</td>\n",
       "      <td>12</td>\n",
       "      <td>36.0</td>\n",
       "      <td>June 18, 2013</td>\n",
       "    </tr>\n",
       "    <tr>\n",
       "      <th>2</th>\n",
       "      <td>2</td>\n",
       "      <td>fit</td>\n",
       "      <td>360448</td>\n",
       "      <td>NaN</td>\n",
       "      <td>1063761</td>\n",
       "      <td>NaN</td>\n",
       "      <td>10.0</td>\n",
       "      <td>party</td>\n",
       "      <td>This hugged in all the right places! It was a ...</td>\n",
       "      <td>NaN</td>\n",
       "      <td>It was a great time to celebrate the (almost) ...</td>\n",
       "      <td>sheath</td>\n",
       "      <td>5' 4\"</td>\n",
       "      <td>4</td>\n",
       "      <td>116.0</td>\n",
       "      <td>December 14, 2015</td>\n",
       "    </tr>\n",
       "    <tr>\n",
       "      <th>3</th>\n",
       "      <td>3</td>\n",
       "      <td>fit</td>\n",
       "      <td>909926</td>\n",
       "      <td>34c</td>\n",
       "      <td>126335</td>\n",
       "      <td>135lbs</td>\n",
       "      <td>8.0</td>\n",
       "      <td>formal affair</td>\n",
       "      <td>I rented this for my company's black tie award...</td>\n",
       "      <td>pear</td>\n",
       "      <td>Dress arrived on time and in perfect condition.</td>\n",
       "      <td>dress</td>\n",
       "      <td>5' 5\"</td>\n",
       "      <td>8</td>\n",
       "      <td>34.0</td>\n",
       "      <td>February 12, 2014</td>\n",
       "    </tr>\n",
       "    <tr>\n",
       "      <th>4</th>\n",
       "      <td>4</td>\n",
       "      <td>fit</td>\n",
       "      <td>151944</td>\n",
       "      <td>34b</td>\n",
       "      <td>616682</td>\n",
       "      <td>145lbs</td>\n",
       "      <td>10.0</td>\n",
       "      <td>wedding</td>\n",
       "      <td>I have always been petite in my upper body and...</td>\n",
       "      <td>athletic</td>\n",
       "      <td>Was in love with this dress !!!</td>\n",
       "      <td>gown</td>\n",
       "      <td>5' 9\"</td>\n",
       "      <td>12</td>\n",
       "      <td>27.0</td>\n",
       "      <td>September 26, 2016</td>\n",
       "    </tr>\n",
       "  </tbody>\n",
       "</table>\n",
       "</div>"
      ],
      "text/plain": [
       "   Unnamed: 0  fit  user_id bust size  item_id  weight  rating     rented for  \\\n",
       "0           0  fit   420272       34d  2260466  137lbs    10.0       vacation   \n",
       "1           1  fit   273551       34b   153475  132lbs    10.0          other   \n",
       "2           2  fit   360448       NaN  1063761     NaN    10.0          party   \n",
       "3           3  fit   909926       34c   126335  135lbs     8.0  formal affair   \n",
       "4           4  fit   151944       34b   616682  145lbs    10.0        wedding   \n",
       "\n",
       "                                         review_text          body type  \\\n",
       "0  An adorable romper! Belt and zipper were a lit...          hourglass   \n",
       "1  I rented this dress for a photo shoot. The the...  straight & narrow   \n",
       "2  This hugged in all the right places! It was a ...                NaN   \n",
       "3  I rented this for my company's black tie award...               pear   \n",
       "4  I have always been petite in my upper body and...           athletic   \n",
       "\n",
       "                                      review_summary category height  size  \\\n",
       "0                               So many compliments!   romper  5' 8\"    14   \n",
       "1                            I felt so glamourous!!!     gown  5' 6\"    12   \n",
       "2  It was a great time to celebrate the (almost) ...   sheath  5' 4\"     4   \n",
       "3   Dress arrived on time and in perfect condition.     dress  5' 5\"     8   \n",
       "4                    Was in love with this dress !!!     gown  5' 9\"    12   \n",
       "\n",
       "     age         review_date  \n",
       "0   28.0      April 20, 2016  \n",
       "1   36.0       June 18, 2013  \n",
       "2  116.0   December 14, 2015  \n",
       "3   34.0   February 12, 2014  \n",
       "4   27.0  September 26, 2016  "
      ]
     },
     "execution_count": 182,
     "metadata": {},
     "output_type": "execute_result"
    }
   ],
   "source": [
    "df = pd.read_csv('renttherunway.csv')\n",
    "df.head()"
   ]
  },
  {
   "cell_type": "markdown",
   "id": "0b28a178",
   "metadata": {},
   "source": [
    "### 2. Check the first few samples, shape, info of the data and try to familiarize yourself with different features"
   ]
  },
  {
   "cell_type": "code",
   "execution_count": 183,
   "id": "e258d1f6",
   "metadata": {},
   "outputs": [
    {
     "data": {
      "text/plain": [
       "(192544, 16)"
      ]
     },
     "execution_count": 183,
     "metadata": {},
     "output_type": "execute_result"
    }
   ],
   "source": [
    "df.shape"
   ]
  },
  {
   "cell_type": "code",
   "execution_count": 184,
   "id": "8cc6efa4",
   "metadata": {},
   "outputs": [
    {
     "name": "stdout",
     "output_type": "stream",
     "text": [
      "<class 'pandas.core.frame.DataFrame'>\n",
      "RangeIndex: 192544 entries, 0 to 192543\n",
      "Data columns (total 16 columns):\n",
      " #   Column          Non-Null Count   Dtype  \n",
      "---  ------          --------------   -----  \n",
      " 0   Unnamed: 0      192544 non-null  int64  \n",
      " 1   fit             192544 non-null  object \n",
      " 2   user_id         192544 non-null  int64  \n",
      " 3   bust size       174133 non-null  object \n",
      " 4   item_id         192544 non-null  int64  \n",
      " 5   weight          162562 non-null  object \n",
      " 6   rating          192462 non-null  float64\n",
      " 7   rented for      192534 non-null  object \n",
      " 8   review_text     192482 non-null  object \n",
      " 9   body type       177907 non-null  object \n",
      " 10  review_summary  192199 non-null  object \n",
      " 11  category        192544 non-null  object \n",
      " 12  height          191867 non-null  object \n",
      " 13  size            192544 non-null  int64  \n",
      " 14  age             191584 non-null  float64\n",
      " 15  review_date     192544 non-null  object \n",
      "dtypes: float64(2), int64(4), object(10)\n",
      "memory usage: 23.5+ MB\n"
     ]
    }
   ],
   "source": [
    "df.info()"
   ]
  },
  {
   "cell_type": "code",
   "execution_count": 185,
   "id": "c7191076",
   "metadata": {},
   "outputs": [
    {
     "data": {
      "text/plain": [
       "Unnamed: 0        192544\n",
       "fit                    3\n",
       "user_id           105571\n",
       "bust size            106\n",
       "item_id             5850\n",
       "weight               190\n",
       "rating                 5\n",
       "rented for             9\n",
       "review_text       191027\n",
       "body type              7\n",
       "review_summary    154736\n",
       "category              68\n",
       "height                24\n",
       "size                  56\n",
       "age                   89\n",
       "review_date         2274\n",
       "dtype: int64"
      ]
     },
     "execution_count": 185,
     "metadata": {},
     "output_type": "execute_result"
    }
   ],
   "source": [
    "df.nunique()"
   ]
  },
  {
   "cell_type": "markdown",
   "id": "816524bb",
   "metadata": {},
   "source": [
    "## Data cleansing and Exploratory data analysis"
   ]
  },
  {
   "cell_type": "markdown",
   "id": "4554af2a",
   "metadata": {},
   "source": [
    "### 3. Check if there are any duplicate records in the dataset? If any, drop themS"
   ]
  },
  {
   "cell_type": "code",
   "execution_count": 186,
   "id": "3e075f50",
   "metadata": {},
   "outputs": [
    {
     "data": {
      "text/plain": [
       "0"
      ]
     },
     "execution_count": 186,
     "metadata": {},
     "output_type": "execute_result"
    }
   ],
   "source": [
    "len(df[df.duplicated()])"
   ]
  },
  {
   "cell_type": "markdown",
   "id": "3104f99d",
   "metadata": {},
   "source": [
    "### 4. Drop the columns which you think redundant for the analysis."
   ]
  },
  {
   "cell_type": "code",
   "execution_count": 187,
   "id": "df238a95",
   "metadata": {},
   "outputs": [],
   "source": [
    "df=df.drop(columns=['Unnamed: 0','user_id','item_id','review_text','review_summary','review_date'],axis=1)"
   ]
  },
  {
   "cell_type": "code",
   "execution_count": 188,
   "id": "d1ba18fc",
   "metadata": {},
   "outputs": [
    {
     "data": {
      "text/html": [
       "<div>\n",
       "<style scoped>\n",
       "    .dataframe tbody tr th:only-of-type {\n",
       "        vertical-align: middle;\n",
       "    }\n",
       "\n",
       "    .dataframe tbody tr th {\n",
       "        vertical-align: top;\n",
       "    }\n",
       "\n",
       "    .dataframe thead th {\n",
       "        text-align: right;\n",
       "    }\n",
       "</style>\n",
       "<table border=\"1\" class=\"dataframe\">\n",
       "  <thead>\n",
       "    <tr style=\"text-align: right;\">\n",
       "      <th></th>\n",
       "      <th>fit</th>\n",
       "      <th>bust size</th>\n",
       "      <th>weight</th>\n",
       "      <th>rating</th>\n",
       "      <th>rented for</th>\n",
       "      <th>body type</th>\n",
       "      <th>category</th>\n",
       "      <th>height</th>\n",
       "      <th>size</th>\n",
       "      <th>age</th>\n",
       "    </tr>\n",
       "  </thead>\n",
       "  <tbody>\n",
       "    <tr>\n",
       "      <th>0</th>\n",
       "      <td>fit</td>\n",
       "      <td>34d</td>\n",
       "      <td>137lbs</td>\n",
       "      <td>10.0</td>\n",
       "      <td>vacation</td>\n",
       "      <td>hourglass</td>\n",
       "      <td>romper</td>\n",
       "      <td>5' 8\"</td>\n",
       "      <td>14</td>\n",
       "      <td>28.0</td>\n",
       "    </tr>\n",
       "    <tr>\n",
       "      <th>1</th>\n",
       "      <td>fit</td>\n",
       "      <td>34b</td>\n",
       "      <td>132lbs</td>\n",
       "      <td>10.0</td>\n",
       "      <td>other</td>\n",
       "      <td>straight &amp; narrow</td>\n",
       "      <td>gown</td>\n",
       "      <td>5' 6\"</td>\n",
       "      <td>12</td>\n",
       "      <td>36.0</td>\n",
       "    </tr>\n",
       "    <tr>\n",
       "      <th>2</th>\n",
       "      <td>fit</td>\n",
       "      <td>NaN</td>\n",
       "      <td>NaN</td>\n",
       "      <td>10.0</td>\n",
       "      <td>party</td>\n",
       "      <td>NaN</td>\n",
       "      <td>sheath</td>\n",
       "      <td>5' 4\"</td>\n",
       "      <td>4</td>\n",
       "      <td>116.0</td>\n",
       "    </tr>\n",
       "    <tr>\n",
       "      <th>3</th>\n",
       "      <td>fit</td>\n",
       "      <td>34c</td>\n",
       "      <td>135lbs</td>\n",
       "      <td>8.0</td>\n",
       "      <td>formal affair</td>\n",
       "      <td>pear</td>\n",
       "      <td>dress</td>\n",
       "      <td>5' 5\"</td>\n",
       "      <td>8</td>\n",
       "      <td>34.0</td>\n",
       "    </tr>\n",
       "    <tr>\n",
       "      <th>4</th>\n",
       "      <td>fit</td>\n",
       "      <td>34b</td>\n",
       "      <td>145lbs</td>\n",
       "      <td>10.0</td>\n",
       "      <td>wedding</td>\n",
       "      <td>athletic</td>\n",
       "      <td>gown</td>\n",
       "      <td>5' 9\"</td>\n",
       "      <td>12</td>\n",
       "      <td>27.0</td>\n",
       "    </tr>\n",
       "  </tbody>\n",
       "</table>\n",
       "</div>"
      ],
      "text/plain": [
       "   fit bust size  weight  rating     rented for          body type category  \\\n",
       "0  fit       34d  137lbs    10.0       vacation          hourglass   romper   \n",
       "1  fit       34b  132lbs    10.0          other  straight & narrow     gown   \n",
       "2  fit       NaN     NaN    10.0          party                NaN   sheath   \n",
       "3  fit       34c  135lbs     8.0  formal affair               pear    dress   \n",
       "4  fit       34b  145lbs    10.0        wedding           athletic     gown   \n",
       "\n",
       "  height  size    age  \n",
       "0  5' 8\"    14   28.0  \n",
       "1  5' 6\"    12   36.0  \n",
       "2  5' 4\"     4  116.0  \n",
       "3  5' 5\"     8   34.0  \n",
       "4  5' 9\"    12   27.0  "
      ]
     },
     "execution_count": 188,
     "metadata": {},
     "output_type": "execute_result"
    }
   ],
   "source": [
    "df.head()"
   ]
  },
  {
   "cell_type": "markdown",
   "id": "becf5e17",
   "metadata": {},
   "source": [
    "### 5. Check the column 'weight', Is there any presence of string data? If yes, remove the string data and convert to float."
   ]
  },
  {
   "cell_type": "code",
   "execution_count": 189,
   "id": "3c56ce95",
   "metadata": {},
   "outputs": [
    {
     "data": {
      "text/html": [
       "<div>\n",
       "<style scoped>\n",
       "    .dataframe tbody tr th:only-of-type {\n",
       "        vertical-align: middle;\n",
       "    }\n",
       "\n",
       "    .dataframe tbody tr th {\n",
       "        vertical-align: top;\n",
       "    }\n",
       "\n",
       "    .dataframe thead th {\n",
       "        text-align: right;\n",
       "    }\n",
       "</style>\n",
       "<table border=\"1\" class=\"dataframe\">\n",
       "  <thead>\n",
       "    <tr style=\"text-align: right;\">\n",
       "      <th></th>\n",
       "      <th>fit</th>\n",
       "      <th>bust size</th>\n",
       "      <th>weight</th>\n",
       "      <th>rating</th>\n",
       "      <th>rented for</th>\n",
       "      <th>body type</th>\n",
       "      <th>category</th>\n",
       "      <th>height</th>\n",
       "      <th>size</th>\n",
       "      <th>age</th>\n",
       "    </tr>\n",
       "  </thead>\n",
       "  <tbody>\n",
       "    <tr>\n",
       "      <th>0</th>\n",
       "      <td>fit</td>\n",
       "      <td>34d</td>\n",
       "      <td>137.0</td>\n",
       "      <td>10.0</td>\n",
       "      <td>vacation</td>\n",
       "      <td>hourglass</td>\n",
       "      <td>romper</td>\n",
       "      <td>5' 8\"</td>\n",
       "      <td>14</td>\n",
       "      <td>28.0</td>\n",
       "    </tr>\n",
       "    <tr>\n",
       "      <th>1</th>\n",
       "      <td>fit</td>\n",
       "      <td>34b</td>\n",
       "      <td>132.0</td>\n",
       "      <td>10.0</td>\n",
       "      <td>other</td>\n",
       "      <td>straight &amp; narrow</td>\n",
       "      <td>gown</td>\n",
       "      <td>5' 6\"</td>\n",
       "      <td>12</td>\n",
       "      <td>36.0</td>\n",
       "    </tr>\n",
       "    <tr>\n",
       "      <th>2</th>\n",
       "      <td>fit</td>\n",
       "      <td>NaN</td>\n",
       "      <td>NaN</td>\n",
       "      <td>10.0</td>\n",
       "      <td>party</td>\n",
       "      <td>NaN</td>\n",
       "      <td>sheath</td>\n",
       "      <td>5' 4\"</td>\n",
       "      <td>4</td>\n",
       "      <td>116.0</td>\n",
       "    </tr>\n",
       "    <tr>\n",
       "      <th>3</th>\n",
       "      <td>fit</td>\n",
       "      <td>34c</td>\n",
       "      <td>135.0</td>\n",
       "      <td>8.0</td>\n",
       "      <td>formal affair</td>\n",
       "      <td>pear</td>\n",
       "      <td>dress</td>\n",
       "      <td>5' 5\"</td>\n",
       "      <td>8</td>\n",
       "      <td>34.0</td>\n",
       "    </tr>\n",
       "    <tr>\n",
       "      <th>4</th>\n",
       "      <td>fit</td>\n",
       "      <td>34b</td>\n",
       "      <td>145.0</td>\n",
       "      <td>10.0</td>\n",
       "      <td>wedding</td>\n",
       "      <td>athletic</td>\n",
       "      <td>gown</td>\n",
       "      <td>5' 9\"</td>\n",
       "      <td>12</td>\n",
       "      <td>27.0</td>\n",
       "    </tr>\n",
       "  </tbody>\n",
       "</table>\n",
       "</div>"
      ],
      "text/plain": [
       "   fit bust size  weight  rating     rented for          body type category  \\\n",
       "0  fit       34d   137.0    10.0       vacation          hourglass   romper   \n",
       "1  fit       34b   132.0    10.0          other  straight & narrow     gown   \n",
       "2  fit       NaN     NaN    10.0          party                NaN   sheath   \n",
       "3  fit       34c   135.0     8.0  formal affair               pear    dress   \n",
       "4  fit       34b   145.0    10.0        wedding           athletic     gown   \n",
       "\n",
       "  height  size    age  \n",
       "0  5' 8\"    14   28.0  \n",
       "1  5' 6\"    12   36.0  \n",
       "2  5' 4\"     4  116.0  \n",
       "3  5' 5\"     8   34.0  \n",
       "4  5' 9\"    12   27.0  "
      ]
     },
     "execution_count": 189,
     "metadata": {},
     "output_type": "execute_result"
    }
   ],
   "source": [
    "df['weight']=df['weight'].str.replace('lbs','').astype(float)\n",
    "df.head()"
   ]
  },
  {
   "cell_type": "code",
   "execution_count": 190,
   "id": "bf5d24db",
   "metadata": {},
   "outputs": [
    {
     "data": {
      "text/plain": [
       "dtype('float64')"
      ]
     },
     "execution_count": 190,
     "metadata": {},
     "output_type": "execute_result"
    }
   ],
   "source": [
    "df['weight'].dtype"
   ]
  },
  {
   "cell_type": "markdown",
   "id": "e9d4818d",
   "metadata": {},
   "source": [
    "### 6. Check the unique categories for the column 'rented for' and group 'party:cocktail' category with 'party'."
   ]
  },
  {
   "cell_type": "code",
   "execution_count": 191,
   "id": "07c33613",
   "metadata": {},
   "outputs": [
    {
     "data": {
      "text/plain": [
       "array(['vacation', 'other', 'party', 'formal affair', 'wedding', 'date',\n",
       "       'everyday', 'work', nan, 'party: cocktail'], dtype=object)"
      ]
     },
     "execution_count": 191,
     "metadata": {},
     "output_type": "execute_result"
    }
   ],
   "source": [
    "df['rented for'].unique()"
   ]
  },
  {
   "cell_type": "code",
   "execution_count": 192,
   "id": "9a65e7a5",
   "metadata": {},
   "outputs": [
    {
     "data": {
      "text/plain": [
       "wedding          57784\n",
       "formal affair    40408\n",
       "party            35627\n",
       "everyday         16822\n",
       "other            15388\n",
       "work             15042\n",
       "date              7388\n",
       "vacation          4075\n",
       "Name: rented for, dtype: int64"
      ]
     },
     "execution_count": 192,
     "metadata": {},
     "output_type": "execute_result"
    }
   ],
   "source": [
    "df['rented for']=df['rented for'].replace({'party: cocktail':'party'})\n",
    "df['rented for'].value_counts()"
   ]
  },
  {
   "cell_type": "markdown",
   "id": "d9c5f2b5",
   "metadata": {},
   "source": [
    "### 7. The column 'height' is in feet with a quotation mark, Convert to inches with float datatype."
   ]
  },
  {
   "cell_type": "code",
   "execution_count": 193,
   "id": "11a3b89f",
   "metadata": {},
   "outputs": [],
   "source": [
    "def Height_conversion(x):\n",
    "  if x is np.NaN:\n",
    "    return x\n",
    "  else:\n",
    "    ft,inc = x.split(\"'\")\n",
    "    inches = inc[1:-1]\n",
    "    return ((12*int(ft)) + int(inches))\n",
    "\n",
    "df['height'] = df['height'].apply(Height_conversion)"
   ]
  },
  {
   "cell_type": "code",
   "execution_count": 194,
   "id": "6c3f95f2",
   "metadata": {},
   "outputs": [
    {
     "data": {
      "text/plain": [
       "0         68.0\n",
       "1         66.0\n",
       "2         64.0\n",
       "3         65.0\n",
       "4         69.0\n",
       "          ... \n",
       "192539    69.0\n",
       "192540    61.0\n",
       "192541    68.0\n",
       "192542    66.0\n",
       "192543    66.0\n",
       "Name: height, Length: 192544, dtype: float64"
      ]
     },
     "execution_count": 194,
     "metadata": {},
     "output_type": "execute_result"
    }
   ],
   "source": [
    "df['height']"
   ]
  },
  {
   "cell_type": "markdown",
   "id": "bc60ff96",
   "metadata": {},
   "source": [
    "### 8. Check for missing values in each column of the dataset? If it exists, impute them with appropriate methods."
   ]
  },
  {
   "cell_type": "code",
   "execution_count": 195,
   "id": "895f1204",
   "metadata": {},
   "outputs": [
    {
     "data": {
      "text/plain": [
       "fit            0.000000\n",
       "bust size      9.561970\n",
       "weight        15.571506\n",
       "rating         0.042588\n",
       "rented for     0.005194\n",
       "body type      7.601899\n",
       "category       0.000000\n",
       "height         0.351608\n",
       "size           0.000000\n",
       "age            0.498587\n",
       "dtype: float64"
      ]
     },
     "execution_count": 195,
     "metadata": {},
     "output_type": "execute_result"
    }
   ],
   "source": [
    "df.isnull().sum()/len(df)*100"
   ]
  },
  {
   "cell_type": "code",
   "execution_count": 196,
   "id": "5358f90f",
   "metadata": {},
   "outputs": [],
   "source": [
    "import random\n",
    "\n",
    "top10_bustsize = df['bust size'].value_counts().sort_values(ascending=False).head(10).index.tolist()\n",
    "\n",
    "def Bust_Replacement(x):\n",
    "  if x is np.NaN:\n",
    "    return np.random.choice(top10_bustsize)\n",
    "  else:\n",
    "    return x\n",
    "\n",
    "df['bust size'] = df['bust size'].apply(Bust_Replacement)"
   ]
  },
  {
   "cell_type": "code",
   "execution_count": 197,
   "id": "f5bdc33c",
   "metadata": {},
   "outputs": [],
   "source": [
    "top3_bodytype = df['body type'].value_counts().sort_values(ascending=False).head(3).index.tolist()\n",
    "\n",
    "def BodyType_Replacement(x):\n",
    "  if x is np.NaN:\n",
    "    return np.random.choice(top3_bodytype)\n",
    "  else:\n",
    "    return x\n",
    "\n",
    "df['body type'] = df['body type'].apply(BodyType_Replacement)"
   ]
  },
  {
   "cell_type": "code",
   "execution_count": 198,
   "id": "5bae1666",
   "metadata": {},
   "outputs": [],
   "source": [
    "top3_rentedFor = df['rented for'].value_counts().sort_values(ascending=False).head(3).index.tolist()\n",
    "\n",
    "def RentedFor_Replacement(x):\n",
    "  if x is np.NaN:\n",
    "    return np.random.choice(top3_rentedFor)\n",
    "  else:\n",
    "    return x\n",
    "\n",
    "df['rented for'] = df['rented for'].apply(RentedFor_Replacement)"
   ]
  },
  {
   "cell_type": "code",
   "execution_count": 199,
   "id": "32666eda",
   "metadata": {},
   "outputs": [
    {
     "data": {
      "text/html": [
       "<div>\n",
       "<style scoped>\n",
       "    .dataframe tbody tr th:only-of-type {\n",
       "        vertical-align: middle;\n",
       "    }\n",
       "\n",
       "    .dataframe tbody tr th {\n",
       "        vertical-align: top;\n",
       "    }\n",
       "\n",
       "    .dataframe thead th {\n",
       "        text-align: right;\n",
       "    }\n",
       "</style>\n",
       "<table border=\"1\" class=\"dataframe\">\n",
       "  <thead>\n",
       "    <tr style=\"text-align: right;\">\n",
       "      <th></th>\n",
       "      <th>fit</th>\n",
       "      <th>bust size</th>\n",
       "      <th>weight</th>\n",
       "      <th>rating</th>\n",
       "      <th>rented for</th>\n",
       "      <th>body type</th>\n",
       "      <th>category</th>\n",
       "      <th>height</th>\n",
       "      <th>size</th>\n",
       "      <th>age</th>\n",
       "    </tr>\n",
       "  </thead>\n",
       "  <tbody>\n",
       "    <tr>\n",
       "      <th>0</th>\n",
       "      <td>fit</td>\n",
       "      <td>34d</td>\n",
       "      <td>137.0</td>\n",
       "      <td>10.0</td>\n",
       "      <td>vacation</td>\n",
       "      <td>hourglass</td>\n",
       "      <td>romper</td>\n",
       "      <td>68.0</td>\n",
       "      <td>14</td>\n",
       "      <td>28.0</td>\n",
       "    </tr>\n",
       "    <tr>\n",
       "      <th>1</th>\n",
       "      <td>fit</td>\n",
       "      <td>34b</td>\n",
       "      <td>132.0</td>\n",
       "      <td>10.0</td>\n",
       "      <td>other</td>\n",
       "      <td>straight &amp; narrow</td>\n",
       "      <td>gown</td>\n",
       "      <td>66.0</td>\n",
       "      <td>12</td>\n",
       "      <td>36.0</td>\n",
       "    </tr>\n",
       "    <tr>\n",
       "      <th>2</th>\n",
       "      <td>fit</td>\n",
       "      <td>32d</td>\n",
       "      <td>NaN</td>\n",
       "      <td>10.0</td>\n",
       "      <td>party</td>\n",
       "      <td>athletic</td>\n",
       "      <td>sheath</td>\n",
       "      <td>64.0</td>\n",
       "      <td>4</td>\n",
       "      <td>116.0</td>\n",
       "    </tr>\n",
       "    <tr>\n",
       "      <th>3</th>\n",
       "      <td>fit</td>\n",
       "      <td>34c</td>\n",
       "      <td>135.0</td>\n",
       "      <td>8.0</td>\n",
       "      <td>formal affair</td>\n",
       "      <td>pear</td>\n",
       "      <td>dress</td>\n",
       "      <td>65.0</td>\n",
       "      <td>8</td>\n",
       "      <td>34.0</td>\n",
       "    </tr>\n",
       "    <tr>\n",
       "      <th>4</th>\n",
       "      <td>fit</td>\n",
       "      <td>34b</td>\n",
       "      <td>145.0</td>\n",
       "      <td>10.0</td>\n",
       "      <td>wedding</td>\n",
       "      <td>athletic</td>\n",
       "      <td>gown</td>\n",
       "      <td>69.0</td>\n",
       "      <td>12</td>\n",
       "      <td>27.0</td>\n",
       "    </tr>\n",
       "  </tbody>\n",
       "</table>\n",
       "</div>"
      ],
      "text/plain": [
       "   fit bust size  weight  rating     rented for          body type category  \\\n",
       "0  fit       34d   137.0    10.0       vacation          hourglass   romper   \n",
       "1  fit       34b   132.0    10.0          other  straight & narrow     gown   \n",
       "2  fit       32d     NaN    10.0          party           athletic   sheath   \n",
       "3  fit       34c   135.0     8.0  formal affair               pear    dress   \n",
       "4  fit       34b   145.0    10.0        wedding           athletic     gown   \n",
       "\n",
       "   height  size    age  \n",
       "0    68.0    14   28.0  \n",
       "1    66.0    12   36.0  \n",
       "2    64.0     4  116.0  \n",
       "3    65.0     8   34.0  \n",
       "4    69.0    12   27.0  "
      ]
     },
     "execution_count": 199,
     "metadata": {},
     "output_type": "execute_result"
    }
   ],
   "source": [
    "#Replacing the missing values with mean\n",
    "df['age']=df['age'].fillna(df['age'].mean())\n",
    "df['height']=df['height'].fillna(df['height'].mean())\n",
    "df['rating']=df['rating'].fillna(df['rating'].mean())\n",
    "df.head()"
   ]
  },
  {
   "cell_type": "code",
   "execution_count": 200,
   "id": "627e2fbe",
   "metadata": {},
   "outputs": [
    {
     "data": {
      "image/png": "[encoded data removed]",
      "text/plain": [
       "<Figure size 1000x600 with 2 Axes>"
      ]
     },
     "metadata": {},
     "output_type": "display_data"
    }
   ],
   "source": [
    "plt.figure(figsize=(10, 6))\n",
    "sns.heatmap(df.corr(), annot=True, cmap='Blues')\n",
    "plt.show()"
   ]
  },
  {
   "cell_type": "code",
   "execution_count": 201,
   "id": "fa41ab9f",
   "metadata": {},
   "outputs": [
    {
     "name": "stdout",
     "output_type": "stream",
     "text": [
      "        fit bust size      weight  rating     rented for          body type  \\\n",
      "0       fit       34d  137.000000    10.0       vacation          hourglass   \n",
      "1       fit       34b  132.000000    10.0          other  straight & narrow   \n",
      "2       fit       32d  101.929877    10.0          party           athletic   \n",
      "3       fit       34c  135.000000     8.0  formal affair               pear   \n",
      "4       fit       34b  145.000000    10.0        wedding           athletic   \n",
      "...     ...       ...         ...     ...            ...                ...   \n",
      "192539  fit      34dd  140.000000    10.0           work          hourglass   \n",
      "192540  fit       32c  100.000000    10.0           work             petite   \n",
      "192541  fit       36a  135.000000     6.0       everyday  straight & narrow   \n",
      "192542  fit       36c  165.000000    10.0        wedding               pear   \n",
      "192543  fit       36b  155.000000    10.0        wedding           athletic   \n",
      "\n",
      "        category  height  size    age  \n",
      "0         romper    68.0    14   28.0  \n",
      "1           gown    66.0    12   36.0  \n",
      "2         sheath    64.0     4  116.0  \n",
      "3          dress    65.0     8   34.0  \n",
      "4           gown    69.0    12   27.0  \n",
      "...          ...     ...   ...    ...  \n",
      "192539  jumpsuit    69.0     8   42.0  \n",
      "192540     dress    61.0     4   29.0  \n",
      "192541     dress    68.0     8   31.0  \n",
      "192542     dress    66.0    16   31.0  \n",
      "192543      gown    66.0    16   30.0  \n",
      "\n",
      "[192544 rows x 10 columns]\n"
     ]
    }
   ],
   "source": [
    "from sklearn.model_selection import train_test_split\n",
    "from sklearn.linear_model import LinearRegression\n",
    "\n",
    "# Assuming you have a DataFrame called 'df' with a target variable 'target' and other relevant features\n",
    "\n",
    "# Step 1: Split the dataset into two parts based on missingness of the target variable\n",
    "df_missing = df[df['weight'].isnull()]  # Dataset with missing values\n",
    "df_non_missing = df[~df['weight'].isnull()]  # Dataset without missing values\n",
    "\n",
    "# Step 2: Identify relevant features for predicting missing values\n",
    "features = ['height', 'size', 'age']  # Add relevant feature names\n",
    "\n",
    "# Step 3: Build a predictive model using the dataset without missing values\n",
    "X_train, X_test, y_train, y_test = train_test_split(df_non_missing[features], df_non_missing['weight'], test_size=0.3)\n",
    "model = LinearRegression()  # Choose an appropriate model\n",
    "model.fit(X_train, y_train)\n",
    "\n",
    "# Step 4: Use the trained model to predict missing values\n",
    "missing_predictions = model.predict(df_missing[features])\n",
    "\n",
    "# Step 5: Replace missing values with the predicted values in the original dataset\n",
    "df.loc[df['weight'].isnull(), 'weight'] = missing_predictions\n",
    "\n",
    "# Print the updated DataFrame\n",
    "print(df)"
   ]
  },
  {
   "cell_type": "code",
   "execution_count": 202,
   "id": "81d70b57",
   "metadata": {},
   "outputs": [
    {
     "data": {
      "text/plain": [
       "fit           0.0\n",
       "bust size     0.0\n",
       "weight        0.0\n",
       "rating        0.0\n",
       "rented for    0.0\n",
       "body type     0.0\n",
       "category      0.0\n",
       "height        0.0\n",
       "size          0.0\n",
       "age           0.0\n",
       "dtype: float64"
      ]
     },
     "execution_count": 202,
     "metadata": {},
     "output_type": "execute_result"
    }
   ],
   "source": [
    "df.isnull().sum()/len(df)*100"
   ]
  },
  {
   "cell_type": "markdown",
   "id": "5000b0a3",
   "metadata": {},
   "source": [
    "### 9. Check the statistical summary for the numerical and categorical columns and write your findings."
   ]
  },
  {
   "cell_type": "code",
   "execution_count": 203,
   "id": "5ee6d2b5",
   "metadata": {},
   "outputs": [
    {
     "data": {
      "text/html": [
       "<div>\n",
       "<style scoped>\n",
       "    .dataframe tbody tr th:only-of-type {\n",
       "        vertical-align: middle;\n",
       "    }\n",
       "\n",
       "    .dataframe tbody tr th {\n",
       "        vertical-align: top;\n",
       "    }\n",
       "\n",
       "    .dataframe thead th {\n",
       "        text-align: right;\n",
       "    }\n",
       "</style>\n",
       "<table border=\"1\" class=\"dataframe\">\n",
       "  <thead>\n",
       "    <tr style=\"text-align: right;\">\n",
       "      <th></th>\n",
       "      <th>weight</th>\n",
       "      <th>rating</th>\n",
       "      <th>height</th>\n",
       "      <th>size</th>\n",
       "      <th>age</th>\n",
       "    </tr>\n",
       "  </thead>\n",
       "  <tbody>\n",
       "    <tr>\n",
       "      <th>count</th>\n",
       "      <td>192544.000000</td>\n",
       "      <td>192544.000000</td>\n",
       "      <td>192544.000000</td>\n",
       "      <td>192544.000000</td>\n",
       "      <td>192544.000000</td>\n",
       "    </tr>\n",
       "    <tr>\n",
       "      <th>mean</th>\n",
       "      <td>139.143248</td>\n",
       "      <td>9.092371</td>\n",
       "      <td>65.310621</td>\n",
       "      <td>12.245175</td>\n",
       "      <td>33.871017</td>\n",
       "    </tr>\n",
       "    <tr>\n",
       "      <th>std</th>\n",
       "      <td>22.557405</td>\n",
       "      <td>1.429740</td>\n",
       "      <td>2.658793</td>\n",
       "      <td>8.494877</td>\n",
       "      <td>8.037969</td>\n",
       "    </tr>\n",
       "    <tr>\n",
       "      <th>min</th>\n",
       "      <td>50.000000</td>\n",
       "      <td>2.000000</td>\n",
       "      <td>54.000000</td>\n",
       "      <td>0.000000</td>\n",
       "      <td>0.000000</td>\n",
       "    </tr>\n",
       "    <tr>\n",
       "      <th>25%</th>\n",
       "      <td>125.000000</td>\n",
       "      <td>8.000000</td>\n",
       "      <td>63.000000</td>\n",
       "      <td>8.000000</td>\n",
       "      <td>29.000000</td>\n",
       "    </tr>\n",
       "    <tr>\n",
       "      <th>50%</th>\n",
       "      <td>135.000000</td>\n",
       "      <td>10.000000</td>\n",
       "      <td>65.000000</td>\n",
       "      <td>12.000000</td>\n",
       "      <td>32.000000</td>\n",
       "    </tr>\n",
       "    <tr>\n",
       "      <th>75%</th>\n",
       "      <td>150.000000</td>\n",
       "      <td>10.000000</td>\n",
       "      <td>67.000000</td>\n",
       "      <td>16.000000</td>\n",
       "      <td>37.000000</td>\n",
       "    </tr>\n",
       "    <tr>\n",
       "      <th>max</th>\n",
       "      <td>300.000000</td>\n",
       "      <td>10.000000</td>\n",
       "      <td>78.000000</td>\n",
       "      <td>58.000000</td>\n",
       "      <td>117.000000</td>\n",
       "    </tr>\n",
       "  </tbody>\n",
       "</table>\n",
       "</div>"
      ],
      "text/plain": [
       "              weight         rating         height           size  \\\n",
       "count  192544.000000  192544.000000  192544.000000  192544.000000   \n",
       "mean      139.143248       9.092371      65.310621      12.245175   \n",
       "std        22.557405       1.429740       2.658793       8.494877   \n",
       "min        50.000000       2.000000      54.000000       0.000000   \n",
       "25%       125.000000       8.000000      63.000000       8.000000   \n",
       "50%       135.000000      10.000000      65.000000      12.000000   \n",
       "75%       150.000000      10.000000      67.000000      16.000000   \n",
       "max       300.000000      10.000000      78.000000      58.000000   \n",
       "\n",
       "                 age  \n",
       "count  192544.000000  \n",
       "mean       33.871017  \n",
       "std         8.037969  \n",
       "min         0.000000  \n",
       "25%        29.000000  \n",
       "50%        32.000000  \n",
       "75%        37.000000  \n",
       "max       117.000000  "
      ]
     },
     "execution_count": 203,
     "metadata": {},
     "output_type": "execute_result"
    }
   ],
   "source": [
    "df.describe()"
   ]
  },
  {
   "cell_type": "code",
   "execution_count": 204,
   "id": "d6510c3a",
   "metadata": {},
   "outputs": [
    {
     "data": {
      "text/html": [
       "<div>\n",
       "<style scoped>\n",
       "    .dataframe tbody tr th:only-of-type {\n",
       "        vertical-align: middle;\n",
       "    }\n",
       "\n",
       "    .dataframe tbody tr th {\n",
       "        vertical-align: top;\n",
       "    }\n",
       "\n",
       "    .dataframe thead th {\n",
       "        text-align: right;\n",
       "    }\n",
       "</style>\n",
       "<table border=\"1\" class=\"dataframe\">\n",
       "  <thead>\n",
       "    <tr style=\"text-align: right;\">\n",
       "      <th></th>\n",
       "      <th>fit</th>\n",
       "      <th>bust size</th>\n",
       "      <th>rented for</th>\n",
       "      <th>body type</th>\n",
       "      <th>category</th>\n",
       "    </tr>\n",
       "  </thead>\n",
       "  <tbody>\n",
       "    <tr>\n",
       "      <th>count</th>\n",
       "      <td>192544</td>\n",
       "      <td>192544</td>\n",
       "      <td>192544</td>\n",
       "      <td>192544</td>\n",
       "      <td>192544</td>\n",
       "    </tr>\n",
       "    <tr>\n",
       "      <th>unique</th>\n",
       "      <td>3</td>\n",
       "      <td>106</td>\n",
       "      <td>8</td>\n",
       "      <td>7</td>\n",
       "      <td>68</td>\n",
       "    </tr>\n",
       "    <tr>\n",
       "      <th>top</th>\n",
       "      <td>fit</td>\n",
       "      <td>34b</td>\n",
       "      <td>wedding</td>\n",
       "      <td>hourglass</td>\n",
       "      <td>dress</td>\n",
       "    </tr>\n",
       "    <tr>\n",
       "      <th>freq</th>\n",
       "      <td>142058</td>\n",
       "      <td>29096</td>\n",
       "      <td>57787</td>\n",
       "      <td>60208</td>\n",
       "      <td>92884</td>\n",
       "    </tr>\n",
       "  </tbody>\n",
       "</table>\n",
       "</div>"
      ],
      "text/plain": [
       "           fit bust size rented for  body type category\n",
       "count   192544    192544     192544     192544   192544\n",
       "unique       3       106          8          7       68\n",
       "top        fit       34b    wedding  hourglass    dress\n",
       "freq    142058     29096      57787      60208    92884"
      ]
     },
     "execution_count": 204,
     "metadata": {},
     "output_type": "execute_result"
    }
   ],
   "source": [
    "df.describe(include='O')"
   ]
  },
  {
   "cell_type": "markdown",
   "id": "9fb1f3f5",
   "metadata": {},
   "source": [
    "### 10. Are there outliers present in the column age? If yes, treat them with the appropriate method."
   ]
  },
  {
   "cell_type": "code",
   "execution_count": 208,
   "id": "9967d306",
   "metadata": {},
   "outputs": [
    {
     "data": {
      "image/png": "[encoded data removed]",
      "text/plain": [
       "<Figure size 1000x800 with 1 Axes>"
      ]
     },
     "metadata": {},
     "output_type": "display_data"
    }
   ],
   "source": [
    "sns.boxplot(df['age'])\n",
    "plt.show()"
   ]
  },
  {
   "cell_type": "code",
   "execution_count": 209,
   "id": "96d803c0",
   "metadata": {},
   "outputs": [],
   "source": [
    "#Removing outliers by using drop\n",
    "df.drop(df[(df['age'] < 19) | (df['age'] > 46)].index, inplace=True)"
   ]
  },
  {
   "cell_type": "code",
   "execution_count": 210,
   "id": "c3692197",
   "metadata": {},
   "outputs": [
    {
     "data": {
      "text/plain": [
       "<AxesSubplot:xlabel='age'>"
      ]
     },
     "execution_count": 210,
     "metadata": {},
     "output_type": "execute_result"
    },
    {
     "data": {
      "image/png": "[encoded data removed]",
      "text/plain": [
       "<Figure size 1000x800 with 1 Axes>"
      ]
     },
     "metadata": {},
     "output_type": "display_data"
    }
   ],
   "source": [
    "sns.boxplot(df['age'])"
   ]
  },
  {
   "cell_type": "code",
   "execution_count": 211,
   "id": "41065eb6",
   "metadata": {},
   "outputs": [
    {
     "data": {
      "text/plain": [
       "(176167, 10)"
      ]
     },
     "execution_count": 211,
     "metadata": {},
     "output_type": "execute_result"
    }
   ],
   "source": [
    "df.shape"
   ]
  },
  {
   "cell_type": "markdown",
   "id": "a9100c85",
   "metadata": {},
   "source": [
    "### 11. Check the distribution of the different categories in the column 'rented for' using appropriate plot. "
   ]
  },
  {
   "cell_type": "code",
   "execution_count": 212,
   "id": "98eb55b3",
   "metadata": {},
   "outputs": [
    {
     "data": {
      "text/plain": [
       "<AxesSubplot:xlabel='rented for', ylabel='count'>"
      ]
     },
     "execution_count": 212,
     "metadata": {},
     "output_type": "execute_result"
    },
    {
     "data": {
      "image/png": "[encoded data removed]",
      "text/plain": [
       "<Figure size 1000x800 with 1 Axes>"
      ]
     },
     "metadata": {},
     "output_type": "display_data"
    }
   ],
   "source": [
    "sns.set(rc={\"figure.figsize\":(10, 8)})\n",
    "sns.countplot( x ='rented for',data=df)"
   ]
  },
  {
   "cell_type": "markdown",
   "id": "76ed0839",
   "metadata": {},
   "source": [
    "##  Data Preparation for model building:"
   ]
  },
  {
   "cell_type": "markdown",
   "id": "85e7a059",
   "metadata": {},
   "source": [
    "### 12. Encode the categorical variables in the dataset."
   ]
  },
  {
   "cell_type": "code",
   "execution_count": 216,
   "id": "db6da78b",
   "metadata": {},
   "outputs": [],
   "source": [
    "df_cat=df[['fit','bust size','rented for','body type','category','height']]"
   ]
  },
  {
   "cell_type": "code",
   "execution_count": 217,
   "id": "31b799f6",
   "metadata": {},
   "outputs": [],
   "source": [
    "## Label encoding\n",
    "le = LabelEncoder()\n",
    "for col in df_cat:\n",
    "    df[col] = le.fit_transform(df[col])"
   ]
  },
  {
   "cell_type": "markdown",
   "id": "a46e57e4",
   "metadata": {},
   "source": [
    "### 13. Standardize the data, so that the values are within a particular range."
   ]
  },
  {
   "cell_type": "code",
   "execution_count": 218,
   "id": "b508f45b",
   "metadata": {},
   "outputs": [
    {
     "data": {
      "text/html": [
       "<div>\n",
       "<style scoped>\n",
       "    .dataframe tbody tr th:only-of-type {\n",
       "        vertical-align: middle;\n",
       "    }\n",
       "\n",
       "    .dataframe tbody tr th {\n",
       "        vertical-align: top;\n",
       "    }\n",
       "\n",
       "    .dataframe thead th {\n",
       "        text-align: right;\n",
       "    }\n",
       "</style>\n",
       "<table border=\"1\" class=\"dataframe\">\n",
       "  <thead>\n",
       "    <tr style=\"text-align: right;\">\n",
       "      <th></th>\n",
       "      <th>fit</th>\n",
       "      <th>bust size</th>\n",
       "      <th>weight</th>\n",
       "      <th>rating</th>\n",
       "      <th>rented for</th>\n",
       "      <th>body type</th>\n",
       "      <th>category</th>\n",
       "      <th>height</th>\n",
       "      <th>size</th>\n",
       "      <th>age</th>\n",
       "    </tr>\n",
       "  </thead>\n",
       "  <tbody>\n",
       "    <tr>\n",
       "      <th>0</th>\n",
       "      <td>-0.556808</td>\n",
       "      <td>0.020724</td>\n",
       "      <td>-0.088681</td>\n",
       "      <td>0.636173</td>\n",
       "      <td>0.496332</td>\n",
       "      <td>0.029961</td>\n",
       "      <td>1.583724</td>\n",
       "      <td>1.043915</td>\n",
       "      <td>0.239601</td>\n",
       "      <td>-0.773552</td>\n",
       "    </tr>\n",
       "    <tr>\n",
       "      <th>1</th>\n",
       "      <td>-0.556808</td>\n",
       "      <td>-0.156553</td>\n",
       "      <td>-0.311007</td>\n",
       "      <td>0.636173</td>\n",
       "      <td>-0.475837</td>\n",
       "      <td>1.892202</td>\n",
       "      <td>-0.304404</td>\n",
       "      <td>0.396179</td>\n",
       "      <td>0.001013</td>\n",
       "      <td>0.689518</td>\n",
       "    </tr>\n",
       "    <tr>\n",
       "      <th>3</th>\n",
       "      <td>-0.556808</td>\n",
       "      <td>-0.067915</td>\n",
       "      <td>-0.177611</td>\n",
       "      <td>-0.768243</td>\n",
       "      <td>-0.961921</td>\n",
       "      <td>0.650708</td>\n",
       "      <td>-0.619093</td>\n",
       "      <td>-0.251558</td>\n",
       "      <td>-0.476163</td>\n",
       "      <td>0.323750</td>\n",
       "    </tr>\n",
       "    <tr>\n",
       "      <th>4</th>\n",
       "      <td>-0.556808</td>\n",
       "      <td>-0.156553</td>\n",
       "      <td>0.267041</td>\n",
       "      <td>0.636173</td>\n",
       "      <td>0.982417</td>\n",
       "      <td>-1.211532</td>\n",
       "      <td>-0.304404</td>\n",
       "      <td>1.367783</td>\n",
       "      <td>0.001013</td>\n",
       "      <td>-0.956436</td>\n",
       "    </tr>\n",
       "    <tr>\n",
       "      <th>5</th>\n",
       "      <td>-0.556808</td>\n",
       "      <td>-1.308849</td>\n",
       "      <td>-0.044216</td>\n",
       "      <td>-0.768243</td>\n",
       "      <td>-1.934090</td>\n",
       "      <td>-1.211532</td>\n",
       "      <td>-0.619093</td>\n",
       "      <td>1.043915</td>\n",
       "      <td>-0.476163</td>\n",
       "      <td>2.335472</td>\n",
       "    </tr>\n",
       "  </tbody>\n",
       "</table>\n",
       "</div>"
      ],
      "text/plain": [
       "        fit  bust size    weight    rating  rented for  body type  category  \\\n",
       "0 -0.556808   0.020724 -0.088681  0.636173    0.496332   0.029961  1.583724   \n",
       "1 -0.556808  -0.156553 -0.311007  0.636173   -0.475837   1.892202 -0.304404   \n",
       "3 -0.556808  -0.067915 -0.177611 -0.768243   -0.961921   0.650708 -0.619093   \n",
       "4 -0.556808  -0.156553  0.267041  0.636173    0.982417  -1.211532 -0.304404   \n",
       "5 -0.556808  -1.308849 -0.044216 -0.768243   -1.934090  -1.211532 -0.619093   \n",
       "\n",
       "     height      size       age  \n",
       "0  1.043915  0.239601 -0.773552  \n",
       "1  0.396179  0.001013  0.689518  \n",
       "3 -0.251558 -0.476163  0.323750  \n",
       "4  1.367783  0.001013 -0.956436  \n",
       "5  1.043915 -0.476163  2.335472  "
      ]
     },
     "execution_count": 218,
     "metadata": {},
     "output_type": "execute_result"
    }
   ],
   "source": [
    "#Standardize the data, so that the values are within a particular range using standard scaler\n",
    "from sklearn.preprocessing import StandardScaler\n",
    "\n",
    "ss=StandardScaler()\n",
    "df.iloc[:,:] = ss.fit_transform(df.iloc[:,:])\n",
    "df.head()"
   ]
  },
  {
   "cell_type": "markdown",
   "id": "6e4b3c95",
   "metadata": {},
   "source": [
    "## Principal Component Analysis and Clustering:"
   ]
  },
  {
   "cell_type": "markdown",
   "id": "0428c010",
   "metadata": {},
   "source": [
    "### 14. Apply PCA on the above dataset and determine the number of PCA components to be used so that 90-95% of the variance in data is explained by the same."
   ]
  },
  {
   "cell_type": "code",
   "execution_count": 219,
   "id": "aefe53e0",
   "metadata": {},
   "outputs": [
    {
     "name": "stdout",
     "output_type": "stream",
     "text": [
      "Covariance matrix \n",
      " [[ 1.00000568e+00  8.89734569e-03  2.00501465e-02 -2.43613859e-01\n",
      "   6.85574764e-03 -7.19005606e-03  5.64979921e-05  2.80585844e-04\n",
      "   6.57624333e-02 -3.24783624e-03]\n",
      " [ 8.89734569e-03  1.00000568e+00  6.07468156e-01 -1.95984636e-02\n",
      "   2.85678823e-03 -2.02939704e-01 -1.36444689e-02  1.40491267e-01\n",
      "   6.05478485e-01  1.33777531e-01]\n",
      " [ 2.00501465e-02  6.07468156e-01  1.00000568e+00 -2.52385915e-02\n",
      "   7.86962112e-03 -2.42128870e-01 -1.77144986e-02  3.78112704e-01\n",
      "   8.83280018e-01  6.72769655e-02]\n",
      " [-2.43613859e-01 -1.95984636e-02 -2.52385915e-02  1.00000568e+00\n",
      "   1.35053369e-02  3.27845089e-03 -2.36508699e-02  1.53127643e-03\n",
      "  -3.75112074e-02 -5.07680827e-02]\n",
      " [ 6.85574764e-03  2.85678823e-03  7.86962112e-03  1.35053369e-02\n",
      "   1.00000568e+00 -1.22606040e-02 -5.92095133e-02 -1.80291969e-02\n",
      "   7.09850899e-03 -7.89114314e-03]\n",
      " [-7.19005606e-03 -2.02939704e-01 -2.42128870e-01  3.27845089e-03\n",
      "  -1.22606040e-02  1.00000568e+00 -1.67283512e-03 -1.29551546e-01\n",
      "  -2.13207161e-01 -4.05489888e-02]\n",
      " [ 5.64979921e-05 -1.36444689e-02 -1.77144986e-02 -2.36508699e-02\n",
      "  -5.92095133e-02 -1.67283512e-03  1.00000568e+00 -4.59056830e-03\n",
      "  -8.96970192e-03  1.98863112e-02]\n",
      " [ 2.80585844e-04  1.40491267e-01  3.78112704e-01  1.53127643e-03\n",
      "  -1.80291969e-02 -1.29551546e-01 -4.59056830e-03  1.00000568e+00\n",
      "   2.30737291e-01 -7.12999158e-03]\n",
      " [ 6.57624333e-02  6.05478485e-01  8.83280018e-01 -3.75112074e-02\n",
      "   7.09850899e-03 -2.13207161e-01 -8.96970192e-03  2.30737291e-01\n",
      "   1.00000568e+00  1.23990272e-01]\n",
      " [-3.24783624e-03  1.33777531e-01  6.72769655e-02 -5.07680827e-02\n",
      "  -7.89114314e-03 -4.05489888e-02  1.98863112e-02 -7.12999158e-03\n",
      "   1.23990272e-01  1.00000568e+00]]\n"
     ]
    }
   ],
   "source": [
    "## Calculating covariance matrix\n",
    "cov_matrix = np.cov(df.T)\n",
    "print('Covariance matrix','\\n',cov_matrix)"
   ]
  },
  {
   "cell_type": "code",
   "execution_count": 220,
   "id": "7181e4dc",
   "metadata": {},
   "outputs": [
    {
     "name": "stdout",
     "output_type": "stream",
     "text": [
      "Covariance matrix \n",
      " [[ 1.00000568e+00  8.89734569e-03  2.00501465e-02 -2.43613859e-01\n",
      "   6.85574764e-03 -7.19005606e-03  5.64979921e-05  2.80585844e-04\n",
      "   6.57624333e-02 -3.24783624e-03]\n",
      " [ 8.89734569e-03  1.00000568e+00  6.07468156e-01 -1.95984636e-02\n",
      "   2.85678823e-03 -2.02939704e-01 -1.36444689e-02  1.40491267e-01\n",
      "   6.05478485e-01  1.33777531e-01]\n",
      " [ 2.00501465e-02  6.07468156e-01  1.00000568e+00 -2.52385915e-02\n",
      "   7.86962112e-03 -2.42128870e-01 -1.77144986e-02  3.78112704e-01\n",
      "   8.83280018e-01  6.72769655e-02]\n",
      " [-2.43613859e-01 -1.95984636e-02 -2.52385915e-02  1.00000568e+00\n",
      "   1.35053369e-02  3.27845089e-03 -2.36508699e-02  1.53127643e-03\n",
      "  -3.75112074e-02 -5.07680827e-02]\n",
      " [ 6.85574764e-03  2.85678823e-03  7.86962112e-03  1.35053369e-02\n",
      "   1.00000568e+00 -1.22606040e-02 -5.92095133e-02 -1.80291969e-02\n",
      "   7.09850899e-03 -7.89114314e-03]\n",
      " [-7.19005606e-03 -2.02939704e-01 -2.42128870e-01  3.27845089e-03\n",
      "  -1.22606040e-02  1.00000568e+00 -1.67283512e-03 -1.29551546e-01\n",
      "  -2.13207161e-01 -4.05489888e-02]\n",
      " [ 5.64979921e-05 -1.36444689e-02 -1.77144986e-02 -2.36508699e-02\n",
      "  -5.92095133e-02 -1.67283512e-03  1.00000568e+00 -4.59056830e-03\n",
      "  -8.96970192e-03  1.98863112e-02]\n",
      " [ 2.80585844e-04  1.40491267e-01  3.78112704e-01  1.53127643e-03\n",
      "  -1.80291969e-02 -1.29551546e-01 -4.59056830e-03  1.00000568e+00\n",
      "   2.30737291e-01 -7.12999158e-03]\n",
      " [ 6.57624333e-02  6.05478485e-01  8.83280018e-01 -3.75112074e-02\n",
      "   7.09850899e-03 -2.13207161e-01 -8.96970192e-03  2.30737291e-01\n",
      "   1.00000568e+00  1.23990272e-01]\n",
      " [-3.24783624e-03  1.33777531e-01  6.72769655e-02 -5.07680827e-02\n",
      "  -7.89114314e-03 -4.05489888e-02  1.98863112e-02 -7.12999158e-03\n",
      "   1.23990272e-01  1.00000568e+00]]\n"
     ]
    }
   ],
   "source": [
    "## Calculating covariance matrix\n",
    "cov_matrix = np.cov(df[~np.isnan(df)].T)\n",
    "print('Covariance matrix','\\n',cov_matrix)"
   ]
  },
  {
   "cell_type": "code",
   "execution_count": 221,
   "id": "397b0cf5",
   "metadata": {},
   "outputs": [
    {
     "name": "stdout",
     "output_type": "stream",
     "text": [
      "Eigen vectors: \n",
      " [[-0.0376509  -0.03442015  0.05051908 -0.68397202 -0.68369369  0.16726403\n",
      "   0.15135085  0.09229786 -0.01314047  0.00384625]\n",
      " [-0.47350399  0.02315981  0.81020011  0.02144366  0.05245069 -0.02803489\n",
      "  -0.17415341  0.23482431 -0.16303983 -0.05275091]\n",
      " [-0.57080469 -0.72814968 -0.33178434  0.04191675  0.02647763  0.02479466\n",
      "   0.0731337  -0.00219866 -0.1573923  -0.02646955]\n",
      " [ 0.03576468 -0.00396499  0.00102522  0.70253561 -0.69994761 -0.02025086\n",
      "  -0.02416029  0.10068807 -0.06237051  0.01411346]\n",
      " [-0.00453895  0.00294165  0.01304141  0.04180406  0.03496223  0.65455594\n",
      "  -0.30483005 -0.17429258 -0.15292757  0.64938521]\n",
      " [ 0.23669179 -0.01549265  0.03307369 -0.04808007 -0.012764   -0.01462637\n",
      "  -0.07169342 -0.34245395 -0.85071011 -0.30632044]\n",
      " [ 0.01185967 -0.00567072  0.00770218 -0.09183121 -0.04031459 -0.67455349\n",
      "   0.10711469  0.00408915 -0.2358014   0.68380892]\n",
      " [-0.26587754  0.12787353  0.20849327  0.09398425 -0.06299161  0.02646711\n",
      "   0.48598223 -0.76507629  0.18321576  0.02996803]\n",
      " [-0.55554051  0.67061477 -0.42797773 -0.01368536 -0.01209311  0.00436081\n",
      "  -0.04644035  0.10736918 -0.20644002 -0.04278735]\n",
      " [-0.10853061 -0.0412863  -0.05462641 -0.12205154 -0.1790514  -0.29293785\n",
      "  -0.77003958 -0.42621182  0.25632127 -0.10220503]]\n",
      "\n",
      "\n",
      "Eigen values: \n",
      " [2.65623418 0.10009836 0.45070133 1.24850456 0.74899815 1.06565776\n",
      " 1.02522921 0.85931188 0.90215688 0.94316444]\n"
     ]
    }
   ],
   "source": [
    "## Calculating eigen values and eigen vectors\n",
    "eig_vals, eig_vecs = np.linalg.eig(cov_matrix)\n",
    "print('Eigen vectors:','\\n',eig_vecs)\n",
    "print('\\n')\n",
    "print('Eigen values:','\\n',eig_vals)"
   ]
  },
  {
   "cell_type": "code",
   "execution_count": 222,
   "id": "13d8074c",
   "metadata": {},
   "outputs": [
    {
     "name": "stdout",
     "output_type": "stream",
     "text": [
      "Variance Explained:  [26.562191038107873, 12.484974698578636, 10.656517106733961, 10.252233949346737, 9.43159085241446, 9.021517634679183, 8.59307005835236, 7.4899389848067335, 4.506987744866139, 1.0009779321139274]\n",
      "Cummulative Variance Explained:  [ 26.56219104  39.04716574  49.70368284  59.95591679  69.38750765\n",
      "  78.40902528  87.00209534  94.49203432  98.99902207 100.        ]\n"
     ]
    }
   ],
   "source": [
    "## Calculating the Variance explained and the cummulative variance explained\n",
    "total = sum(eig_vals)\n",
    "var_exp = [ (i/total)*100  for i in sorted(eig_vals,reverse=True)]\n",
    "cum_var_exp = np.cumsum(var_exp)\n",
    "print('Variance Explained: ',var_exp)\n",
    "print('Cummulative Variance Explained: ',cum_var_exp)"
   ]
  },
  {
   "cell_type": "code",
   "execution_count": 223,
   "id": "de041f2e",
   "metadata": {},
   "outputs": [
    {
     "data": {
      "image/png": "[encoded data removed]",
      "text/plain": [
       "<Figure size 1000x800 with 1 Axes>"
      ]
     },
     "metadata": {},
     "output_type": "display_data"
    }
   ],
   "source": [
    "## Scree plot\n",
    "plt.bar(range(10),var_exp, align='center',color='lightgreen',edgecolor='black',label='Indiviual Explained Varinace')\n",
    "plt.step(range(10), cum_var_exp, where='mid',color='red',label='Cummulative explained Variance')\n",
    "plt.legend(loc = 'best')\n",
    "plt.ylabel('Explained Variance Ratio')\n",
    "plt.xlabel('Principal Components')\n",
    "plt.tight_layout()\n",
    "plt.show()"
   ]
  },
  {
   "cell_type": "code",
   "execution_count": 224,
   "id": "96f337d6",
   "metadata": {},
   "outputs": [
    {
     "data": {
      "text/plain": [
       "PCA(n_components=7)"
      ]
     },
     "execution_count": 224,
     "metadata": {},
     "output_type": "execute_result"
    }
   ],
   "source": [
    "## Fitting the PCA model\n",
    "pca=PCA(n_components = 7)\n",
    "pca.fit(df)"
   ]
  },
  {
   "cell_type": "code",
   "execution_count": 225,
   "id": "ad34d428",
   "metadata": {},
   "outputs": [
    {
     "data": {
      "text/html": [
       "<div>\n",
       "<style scoped>\n",
       "    .dataframe tbody tr th:only-of-type {\n",
       "        vertical-align: middle;\n",
       "    }\n",
       "\n",
       "    .dataframe tbody tr th {\n",
       "        vertical-align: top;\n",
       "    }\n",
       "\n",
       "    .dataframe thead th {\n",
       "        text-align: right;\n",
       "    }\n",
       "</style>\n",
       "<table border=\"1\" class=\"dataframe\">\n",
       "  <thead>\n",
       "    <tr style=\"text-align: right;\">\n",
       "      <th></th>\n",
       "      <th>PC1</th>\n",
       "      <th>PC2</th>\n",
       "      <th>PC3</th>\n",
       "      <th>PC4</th>\n",
       "      <th>PC5</th>\n",
       "      <th>PC6</th>\n",
       "      <th>PC7</th>\n",
       "    </tr>\n",
       "  </thead>\n",
       "  <tbody>\n",
       "    <tr>\n",
       "      <th>0</th>\n",
       "      <td>0.218563</td>\n",
       "      <td>-0.887621</td>\n",
       "      <td>0.597388</td>\n",
       "      <td>0.998320</td>\n",
       "      <td>1.504282</td>\n",
       "      <td>0.553098</td>\n",
       "      <td>-0.515819</td>\n",
       "    </tr>\n",
       "    <tr>\n",
       "      <th>1</th>\n",
       "      <td>-0.561056</td>\n",
       "      <td>-0.681531</td>\n",
       "      <td>0.434636</td>\n",
       "      <td>-0.456807</td>\n",
       "      <td>-1.132091</td>\n",
       "      <td>1.173940</td>\n",
       "      <td>-1.186596</td>\n",
       "    </tr>\n",
       "    <tr>\n",
       "      <th>2</th>\n",
       "      <td>-0.574343</td>\n",
       "      <td>0.239065</td>\n",
       "      <td>0.405187</td>\n",
       "      <td>-0.236057</td>\n",
       "      <td>-1.272278</td>\n",
       "      <td>0.031023</td>\n",
       "      <td>-0.198667</td>\n",
       "    </tr>\n",
       "    <tr>\n",
       "      <th>3</th>\n",
       "      <td>0.589835</td>\n",
       "      <td>-1.208156</td>\n",
       "      <td>-1.087479</td>\n",
       "      <td>1.103098</td>\n",
       "      <td>0.947655</td>\n",
       "      <td>-0.908571</td>\n",
       "      <td>-0.420970</td>\n",
       "    </tr>\n",
       "    <tr>\n",
       "      <th>4</th>\n",
       "      <td>-0.086653</td>\n",
       "      <td>0.334967</td>\n",
       "      <td>1.531213</td>\n",
       "      <td>-0.499860</td>\n",
       "      <td>-1.438003</td>\n",
       "      <td>-2.636200</td>\n",
       "      <td>-1.531743</td>\n",
       "    </tr>\n",
       "  </tbody>\n",
       "</table>\n",
       "</div>"
      ],
      "text/plain": [
       "        PC1       PC2       PC3       PC4       PC5       PC6       PC7\n",
       "0  0.218563 -0.887621  0.597388  0.998320  1.504282  0.553098 -0.515819\n",
       "1 -0.561056 -0.681531  0.434636 -0.456807 -1.132091  1.173940 -1.186596\n",
       "2 -0.574343  0.239065  0.405187 -0.236057 -1.272278  0.031023 -0.198667\n",
       "3  0.589835 -1.208156 -1.087479  1.103098  0.947655 -0.908571 -0.420970\n",
       "4 -0.086653  0.334967  1.531213 -0.499860 -1.438003 -2.636200 -1.531743"
      ]
     },
     "execution_count": 225,
     "metadata": {},
     "output_type": "execute_result"
    }
   ],
   "source": [
    "data_pca = pca.transform(df)\n",
    "data_pca = pd.DataFrame(data_pca,columns=['PC1','PC2','PC3','PC4','PC5','PC6','PC7'])\n",
    "data_pca.head()"
   ]
  },
  {
   "cell_type": "markdown",
   "id": "9db41b7e",
   "metadata": {},
   "source": [
    "### 15. Apply K-means clustering and segment the data. (You may use original data or PCA transformed data)"
   ]
  },
  {
   "cell_type": "markdown",
   "id": "24bd739a",
   "metadata": {},
   "source": [
    "#### a. Find the optimal K Value using elbow plot for K Means clustering."
   ]
  },
  {
   "cell_type": "code",
   "execution_count": 226,
   "id": "4ffea892",
   "metadata": {},
   "outputs": [
    {
     "data": {
      "text/html": [
       "<div>\n",
       "<style scoped>\n",
       "    .dataframe tbody tr th:only-of-type {\n",
       "        vertical-align: middle;\n",
       "    }\n",
       "\n",
       "    .dataframe tbody tr th {\n",
       "        vertical-align: top;\n",
       "    }\n",
       "\n",
       "    .dataframe thead th {\n",
       "        text-align: right;\n",
       "    }\n",
       "</style>\n",
       "<table border=\"1\" class=\"dataframe\">\n",
       "  <thead>\n",
       "    <tr style=\"text-align: right;\">\n",
       "      <th></th>\n",
       "      <th>num_clusters</th>\n",
       "      <th>cluster_errors</th>\n",
       "    </tr>\n",
       "  </thead>\n",
       "  <tbody>\n",
       "    <tr>\n",
       "      <th>0</th>\n",
       "      <td>2</td>\n",
       "      <td>142244.239059</td>\n",
       "    </tr>\n",
       "    <tr>\n",
       "      <th>1</th>\n",
       "      <td>3</td>\n",
       "      <td>128323.180340</td>\n",
       "    </tr>\n",
       "    <tr>\n",
       "      <th>2</th>\n",
       "      <td>4</td>\n",
       "      <td>116641.510009</td>\n",
       "    </tr>\n",
       "    <tr>\n",
       "      <th>3</th>\n",
       "      <td>5</td>\n",
       "      <td>106860.427666</td>\n",
       "    </tr>\n",
       "    <tr>\n",
       "      <th>4</th>\n",
       "      <td>6</td>\n",
       "      <td>100954.299641</td>\n",
       "    </tr>\n",
       "    <tr>\n",
       "      <th>5</th>\n",
       "      <td>7</td>\n",
       "      <td>96078.875095</td>\n",
       "    </tr>\n",
       "    <tr>\n",
       "      <th>6</th>\n",
       "      <td>8</td>\n",
       "      <td>92060.494735</td>\n",
       "    </tr>\n",
       "    <tr>\n",
       "      <th>7</th>\n",
       "      <td>9</td>\n",
       "      <td>88837.556322</td>\n",
       "    </tr>\n",
       "    <tr>\n",
       "      <th>8</th>\n",
       "      <td>10</td>\n",
       "      <td>85877.374994</td>\n",
       "    </tr>\n",
       "    <tr>\n",
       "      <th>9</th>\n",
       "      <td>11</td>\n",
       "      <td>83341.094641</td>\n",
       "    </tr>\n",
       "    <tr>\n",
       "      <th>10</th>\n",
       "      <td>12</td>\n",
       "      <td>80527.752690</td>\n",
       "    </tr>\n",
       "    <tr>\n",
       "      <th>11</th>\n",
       "      <td>13</td>\n",
       "      <td>78651.676455</td>\n",
       "    </tr>\n",
       "    <tr>\n",
       "      <th>12</th>\n",
       "      <td>14</td>\n",
       "      <td>76662.375894</td>\n",
       "    </tr>\n",
       "  </tbody>\n",
       "</table>\n",
       "</div>"
      ],
      "text/plain": [
       "    num_clusters  cluster_errors\n",
       "0              2   142244.239059\n",
       "1              3   128323.180340\n",
       "2              4   116641.510009\n",
       "3              5   106860.427666\n",
       "4              6   100954.299641\n",
       "5              7    96078.875095\n",
       "6              8    92060.494735\n",
       "7              9    88837.556322\n",
       "8             10    85877.374994\n",
       "9             11    83341.094641\n",
       "10            12    80527.752690\n",
       "11            13    78651.676455\n",
       "12            14    76662.375894"
      ]
     },
     "execution_count": 226,
     "metadata": {},
     "output_type": "execute_result"
    }
   ],
   "source": [
    "# Using 10% of total data as sample to calcute the results and reduce the omputation time.\n",
    "\n",
    "df_scaled=data_pca.sample(20000)\n",
    "cluster_range = range(2,15)\n",
    "cluster_errors = []\n",
    "\n",
    "for num_clusters in cluster_range:\n",
    "   \n",
    "    clusters = KMeans(num_clusters, n_init=10)\n",
    "    clusters.fit(df_scaled)\n",
    "    \n",
    "    labels = clusters.labels_\n",
    "    centroids = clusters.cluster_centers_\n",
    "    \n",
    "    cluster_errors.append(clusters.inertia_)\n",
    "\n",
    "clusters_df = pd.DataFrame({'num_clusters':cluster_range, \n",
    "                           'cluster_errors':cluster_errors})\n",
    "\n",
    "clusters_df"
   ]
  },
  {
   "cell_type": "markdown",
   "id": "1cf5c351",
   "metadata": {},
   "source": [
    "#### b. Build a Kmeans clustering model using the obtained optimal K value from the elbow plot."
   ]
  },
  {
   "cell_type": "code",
   "execution_count": 227,
   "id": "de6be40c",
   "metadata": {},
   "outputs": [
    {
     "data": {
      "image/png": "[encoded data removed]",
      "text/plain": [
       "<Figure size 1200x600 with 1 Axes>"
      ]
     },
     "metadata": {},
     "output_type": "display_data"
    }
   ],
   "source": [
    "## Elbow method\n",
    "plt.figure(figsize=[12,6])\n",
    "plt.title('The Elbow Method')\n",
    "plt.xlabel('Number of clusters using PCA')\n",
    "plt.plot(clusters_df['num_clusters'],clusters_df['cluster_errors'],marker='o',color='b')\n",
    "plt.show()"
   ]
  },
  {
   "cell_type": "code",
   "execution_count": 228,
   "id": "5bbd0aef",
   "metadata": {},
   "outputs": [
    {
     "data": {
      "text/plain": [
       "KMeans(n_clusters=5, n_init=15, random_state=2345)"
      ]
     },
     "execution_count": 228,
     "metadata": {},
     "output_type": "execute_result"
    }
   ],
   "source": [
    "## Fit the KMeans clustering model using the obtained optimal K\n",
    "kmeans = KMeans(n_clusters=5, n_init=15, random_state=2345)\n",
    "kmeans.fit(df_scaled)"
   ]
  },
  {
   "cell_type": "code",
   "execution_count": 229,
   "id": "57599664",
   "metadata": {},
   "outputs": [
    {
     "data": {
      "text/plain": [
       "array([3, 3, 3, ..., 0, 3, 2])"
      ]
     },
     "execution_count": 229,
     "metadata": {},
     "output_type": "execute_result"
    }
   ],
   "source": [
    "## obtained labels from kmeans clustering\n",
    "kmeans.labels_"
   ]
  },
  {
   "cell_type": "code",
   "execution_count": 230,
   "id": "1ba2f007",
   "metadata": {},
   "outputs": [
    {
     "data": {
      "text/html": [
       "<div>\n",
       "<style scoped>\n",
       "    .dataframe tbody tr th:only-of-type {\n",
       "        vertical-align: middle;\n",
       "    }\n",
       "\n",
       "    .dataframe tbody tr th {\n",
       "        vertical-align: top;\n",
       "    }\n",
       "\n",
       "    .dataframe thead th {\n",
       "        text-align: right;\n",
       "    }\n",
       "</style>\n",
       "<table border=\"1\" class=\"dataframe\">\n",
       "  <thead>\n",
       "    <tr style=\"text-align: right;\">\n",
       "      <th></th>\n",
       "      <th>Labels</th>\n",
       "    </tr>\n",
       "  </thead>\n",
       "  <tbody>\n",
       "    <tr>\n",
       "      <th>0</th>\n",
       "      <td>3</td>\n",
       "    </tr>\n",
       "    <tr>\n",
       "      <th>1</th>\n",
       "      <td>3</td>\n",
       "    </tr>\n",
       "    <tr>\n",
       "      <th>2</th>\n",
       "      <td>3</td>\n",
       "    </tr>\n",
       "    <tr>\n",
       "      <th>3</th>\n",
       "      <td>1</td>\n",
       "    </tr>\n",
       "    <tr>\n",
       "      <th>4</th>\n",
       "      <td>4</td>\n",
       "    </tr>\n",
       "  </tbody>\n",
       "</table>\n",
       "</div>"
      ],
      "text/plain": [
       "   Labels\n",
       "0       3\n",
       "1       3\n",
       "2       3\n",
       "3       1\n",
       "4       4"
      ]
     },
     "execution_count": 230,
     "metadata": {},
     "output_type": "execute_result"
    }
   ],
   "source": [
    "## Creating a new dataframe only for labels.\n",
    "df_labels = pd.DataFrame(kmeans.labels_, columns=list(['Labels']))\n",
    "df_labels.head(5)"
   ]
  },
  {
   "cell_type": "code",
   "execution_count": 231,
   "id": "5d8574a9",
   "metadata": {},
   "outputs": [],
   "source": [
    "df_labels['Labels'] = df_labels['Labels'].astype('category')"
   ]
  },
  {
   "cell_type": "code",
   "execution_count": 232,
   "id": "d09f2b5e",
   "metadata": {},
   "outputs": [
    {
     "data": {
      "text/html": [
       "<div>\n",
       "<style scoped>\n",
       "    .dataframe tbody tr th:only-of-type {\n",
       "        vertical-align: middle;\n",
       "    }\n",
       "\n",
       "    .dataframe tbody tr th {\n",
       "        vertical-align: top;\n",
       "    }\n",
       "\n",
       "    .dataframe thead th {\n",
       "        text-align: right;\n",
       "    }\n",
       "</style>\n",
       "<table border=\"1\" class=\"dataframe\">\n",
       "  <thead>\n",
       "    <tr style=\"text-align: right;\">\n",
       "      <th></th>\n",
       "      <th>fit</th>\n",
       "      <th>bust size</th>\n",
       "      <th>weight</th>\n",
       "      <th>rating</th>\n",
       "      <th>rented for</th>\n",
       "      <th>body type</th>\n",
       "      <th>category</th>\n",
       "      <th>height</th>\n",
       "      <th>size</th>\n",
       "      <th>age</th>\n",
       "      <th>Labels</th>\n",
       "    </tr>\n",
       "  </thead>\n",
       "  <tbody>\n",
       "    <tr>\n",
       "      <th>0</th>\n",
       "      <td>-0.556808</td>\n",
       "      <td>0.020724</td>\n",
       "      <td>-0.088681</td>\n",
       "      <td>0.636173</td>\n",
       "      <td>0.496332</td>\n",
       "      <td>0.029961</td>\n",
       "      <td>1.583724</td>\n",
       "      <td>1.043915</td>\n",
       "      <td>0.239601</td>\n",
       "      <td>-0.773552</td>\n",
       "      <td>3</td>\n",
       "    </tr>\n",
       "    <tr>\n",
       "      <th>1</th>\n",
       "      <td>-0.556808</td>\n",
       "      <td>-0.156553</td>\n",
       "      <td>-0.311007</td>\n",
       "      <td>0.636173</td>\n",
       "      <td>-0.475837</td>\n",
       "      <td>1.892202</td>\n",
       "      <td>-0.304404</td>\n",
       "      <td>0.396179</td>\n",
       "      <td>0.001013</td>\n",
       "      <td>0.689518</td>\n",
       "      <td>3</td>\n",
       "    </tr>\n",
       "    <tr>\n",
       "      <th>3</th>\n",
       "      <td>-0.556808</td>\n",
       "      <td>-0.067915</td>\n",
       "      <td>-0.177611</td>\n",
       "      <td>-0.768243</td>\n",
       "      <td>-0.961921</td>\n",
       "      <td>0.650708</td>\n",
       "      <td>-0.619093</td>\n",
       "      <td>-0.251558</td>\n",
       "      <td>-0.476163</td>\n",
       "      <td>0.323750</td>\n",
       "      <td>1</td>\n",
       "    </tr>\n",
       "    <tr>\n",
       "      <th>4</th>\n",
       "      <td>-0.556808</td>\n",
       "      <td>-0.156553</td>\n",
       "      <td>0.267041</td>\n",
       "      <td>0.636173</td>\n",
       "      <td>0.982417</td>\n",
       "      <td>-1.211532</td>\n",
       "      <td>-0.304404</td>\n",
       "      <td>1.367783</td>\n",
       "      <td>0.001013</td>\n",
       "      <td>-0.956436</td>\n",
       "      <td>4</td>\n",
       "    </tr>\n",
       "    <tr>\n",
       "      <th>5</th>\n",
       "      <td>-0.556808</td>\n",
       "      <td>-1.308849</td>\n",
       "      <td>-0.044216</td>\n",
       "      <td>-0.768243</td>\n",
       "      <td>-1.934090</td>\n",
       "      <td>-1.211532</td>\n",
       "      <td>-0.619093</td>\n",
       "      <td>1.043915</td>\n",
       "      <td>-0.476163</td>\n",
       "      <td>2.335472</td>\n",
       "      <td>1</td>\n",
       "    </tr>\n",
       "  </tbody>\n",
       "</table>\n",
       "</div>"
      ],
      "text/plain": [
       "        fit  bust size    weight    rating  rented for  body type  category  \\\n",
       "0 -0.556808   0.020724 -0.088681  0.636173    0.496332   0.029961  1.583724   \n",
       "1 -0.556808  -0.156553 -0.311007  0.636173   -0.475837   1.892202 -0.304404   \n",
       "3 -0.556808  -0.067915 -0.177611 -0.768243   -0.961921   0.650708 -0.619093   \n",
       "4 -0.556808  -0.156553  0.267041  0.636173    0.982417  -1.211532 -0.304404   \n",
       "5 -0.556808  -1.308849 -0.044216 -0.768243   -1.934090  -1.211532 -0.619093   \n",
       "\n",
       "     height      size       age Labels  \n",
       "0  1.043915  0.239601 -0.773552      3  \n",
       "1  0.396179  0.001013  0.689518      3  \n",
       "3 -0.251558 -0.476163  0.323750      1  \n",
       "4  1.367783  0.001013 -0.956436      4  \n",
       "5  1.043915 -0.476163  2.335472      1  "
      ]
     },
     "execution_count": 232,
     "metadata": {},
     "output_type": "execute_result"
    }
   ],
   "source": [
    "## joining the label dataframe with unscaled initial dataframe.(df)\n",
    "\n",
    "df_kmeans = df.join(df_labels)\n",
    "\n",
    "df_kmeans.head()"
   ]
  },
  {
   "cell_type": "code",
   "execution_count": 233,
   "id": "de1568e3",
   "metadata": {},
   "outputs": [
    {
     "data": {
      "text/plain": [
       "3    6130\n",
       "2    3955\n",
       "0    2848\n",
       "1    2779\n",
       "4    2645\n",
       "Name: Labels, dtype: int64"
      ]
     },
     "execution_count": 233,
     "metadata": {},
     "output_type": "execute_result"
    }
   ],
   "source": [
    "df_kmeans['Labels'].value_counts()"
   ]
  },
  {
   "cell_type": "markdown",
   "id": "de129a27",
   "metadata": {},
   "source": [
    "#### c. Compute silhouette score for evaluating the quality of the K Means clustering technique."
   ]
  },
  {
   "cell_type": "code",
   "execution_count": 234,
   "id": "62aa9a36",
   "metadata": {},
   "outputs": [
    {
     "name": "stdout",
     "output_type": "stream",
     "text": [
      "2 0.18297971865169962\n",
      "3 0.16611925661939622\n",
      "4 0.1395465567779053\n",
      "5 0.14798881415482293\n",
      "6 0.13398426348755904\n",
      "7 0.13486019019399392\n",
      "8 0.12695627688324654\n",
      "9 0.13215288377800685\n"
     ]
    }
   ],
   "source": [
    "from sklearn.metrics import silhouette_score\n",
    "\n",
    "kmeans_score = []\n",
    "\n",
    "for i in range(2,10):\n",
    "    kmeans = KMeans(n_clusters=i)\n",
    "    kmeans = kmeans.fit(df_scaled)\n",
    "    labels = kmeans.predict(df_scaled)\n",
    "    print(i,silhouette_score(df_scaled,labels))"
   ]
  },
  {
   "cell_type": "markdown",
   "id": "ebd6b95c",
   "metadata": {},
   "source": [
    "### 16. Apply Agglomerative clustering and segment the data. (You may use original data or PCA transformed data)"
   ]
  },
  {
   "cell_type": "markdown",
   "id": "6243f5d9",
   "metadata": {},
   "source": [
    "#### a. Find the optimal K Value using dendrogram for Agglomerative clustering."
   ]
  },
  {
   "cell_type": "code",
   "execution_count": 236,
   "id": "7cb214c0",
   "metadata": {},
   "outputs": [
    {
     "data": {
      "image/png": "[encoded data removed]",
      "text/plain": [
       "<Figure size 1400x900 with 1 Axes>"
      ]
     },
     "metadata": {},
     "output_type": "display_data"
    }
   ],
   "source": [
    "#ss = StandardScaler()\n",
    "\n",
    "plt.figure(figsize=[14,9])\n",
    "merg = linkage(df_scaled, method='ward')\n",
    "dendrogram(merg, leaf_rotation=90,)\n",
    "plt.xlabel('Datapoints')\n",
    "plt.ylabel('Euclidean distance')\n",
    "plt.show()"
   ]
  },
  {
   "cell_type": "markdown",
   "id": "b6dff3e5",
   "metadata": {},
   "source": [
    "#### b. Build a Agglomerative clustering model using the obtained optimal K value observed from dendrogram"
   ]
  },
  {
   "cell_type": "code",
   "execution_count": 237,
   "id": "66c2f187",
   "metadata": {},
   "outputs": [],
   "source": [
    "hie_cluster = AgglomerativeClustering(n_clusters=5 , affinity='euclidean',\n",
    "                                     linkage='ward')\n",
    "\n",
    "hie_cluster_model = hie_cluster.fit(df_scaled)"
   ]
  },
  {
   "cell_type": "code",
   "execution_count": 239,
   "id": "386e5085",
   "metadata": {},
   "outputs": [
    {
     "data": {
      "text/html": [
       "<div>\n",
       "<style scoped>\n",
       "    .dataframe tbody tr th:only-of-type {\n",
       "        vertical-align: middle;\n",
       "    }\n",
       "\n",
       "    .dataframe tbody tr th {\n",
       "        vertical-align: top;\n",
       "    }\n",
       "\n",
       "    .dataframe thead th {\n",
       "        text-align: right;\n",
       "    }\n",
       "</style>\n",
       "<table border=\"1\" class=\"dataframe\">\n",
       "  <thead>\n",
       "    <tr style=\"text-align: right;\">\n",
       "      <th></th>\n",
       "      <th>Labels</th>\n",
       "    </tr>\n",
       "  </thead>\n",
       "  <tbody>\n",
       "    <tr>\n",
       "      <th>0</th>\n",
       "      <td>0</td>\n",
       "    </tr>\n",
       "    <tr>\n",
       "      <th>1</th>\n",
       "      <td>0</td>\n",
       "    </tr>\n",
       "    <tr>\n",
       "      <th>2</th>\n",
       "      <td>1</td>\n",
       "    </tr>\n",
       "    <tr>\n",
       "      <th>3</th>\n",
       "      <td>3</td>\n",
       "    </tr>\n",
       "    <tr>\n",
       "      <th>4</th>\n",
       "      <td>2</td>\n",
       "    </tr>\n",
       "    <tr>\n",
       "      <th>5</th>\n",
       "      <td>2</td>\n",
       "    </tr>\n",
       "    <tr>\n",
       "      <th>6</th>\n",
       "      <td>0</td>\n",
       "    </tr>\n",
       "    <tr>\n",
       "      <th>7</th>\n",
       "      <td>4</td>\n",
       "    </tr>\n",
       "    <tr>\n",
       "      <th>8</th>\n",
       "      <td>0</td>\n",
       "    </tr>\n",
       "    <tr>\n",
       "      <th>9</th>\n",
       "      <td>2</td>\n",
       "    </tr>\n",
       "  </tbody>\n",
       "</table>\n",
       "</div>"
      ],
      "text/plain": [
       "   Labels\n",
       "0       0\n",
       "1       0\n",
       "2       1\n",
       "3       3\n",
       "4       2\n",
       "5       2\n",
       "6       0\n",
       "7       4\n",
       "8       0\n",
       "9       2"
      ]
     },
     "execution_count": 239,
     "metadata": {},
     "output_type": "execute_result"
    }
   ],
   "source": [
    "## Creating a dataframe of the labels\n",
    "df_label1 = pd.DataFrame(hie_cluster_model.labels_,columns=['Labels'])\n",
    "df_label1.head(n=10)"
   ]
  },
  {
   "cell_type": "code",
   "execution_count": 240,
   "id": "a06e207b",
   "metadata": {},
   "outputs": [],
   "source": [
    "## joining the label dataframe with unscaled initial dataframe.(df)\n",
    "df_hier = df.join(df_label1)"
   ]
  },
  {
   "cell_type": "markdown",
   "id": "f943e2a2",
   "metadata": {},
   "source": [
    "#### c. Compute silhoutte score for evaluating the quality of the Agglomerative clustering technique"
   ]
  },
  {
   "cell_type": "code",
   "execution_count": 241,
   "id": "8b3b0fce",
   "metadata": {},
   "outputs": [
    {
     "name": "stdout",
     "output_type": "stream",
     "text": [
      "2 0.17963383471976846\n",
      "3 0.14736587853202826\n",
      "4 0.138039792750073\n",
      "5 0.10234645620450473\n",
      "6 0.07846751167546112\n",
      "7 0.0719948767321486\n",
      "8 0.07951230308915926\n",
      "9 0.07301678868911249\n"
     ]
    }
   ],
   "source": [
    "from sklearn.metrics import silhouette_score\n",
    "for i in range(2,10):\n",
    "    hier = AgglomerativeClustering(n_clusters=i)\n",
    "    hier = hier.fit(df_scaled)\n",
    "    labels = hier.fit_predict(df_scaled)\n",
    "    print(i,silhouette_score(df_scaled,labels))"
   ]
  },
  {
   "cell_type": "markdown",
   "id": "d83ba971",
   "metadata": {},
   "source": [
    "## Conclusion :"
   ]
  },
  {
   "cell_type": "markdown",
   "id": "7c641a5e",
   "metadata": {},
   "source": [
    "### 17. Perform cluster analysis by doing bivariate analysis between cluster labels and different features and write your conclusion on the results."
   ]
  },
  {
   "cell_type": "code",
   "execution_count": 242,
   "id": "e66c96d4",
   "metadata": {},
   "outputs": [
    {
     "data": {
      "image/png": "[encoded data removed]",
      "text/plain": [
       "<Figure size 1000x800 with 1 Axes>"
      ]
     },
     "metadata": {},
     "output_type": "display_data"
    }
   ],
   "source": [
    "sns.barplot(df_kmeans['Labels'],df_kmeans['rented for'])\n",
    "plt.show()\n",
    "#the below bar plot shows what peple have rented cloth for different purposes"
   ]
  },
  {
   "cell_type": "code",
   "execution_count": 243,
   "id": "1b10fc0a",
   "metadata": {},
   "outputs": [
    {
     "data": {
      "text/plain": [
       "<AxesSubplot:xlabel='Labels', ylabel='category'>"
      ]
     },
     "execution_count": 243,
     "metadata": {},
     "output_type": "execute_result"
    },
    {
     "data": {
      "image/png": "[encoded data removed]",
      "text/plain": [
       "<Figure size 1400x600 with 1 Axes>"
      ]
     },
     "metadata": {},
     "output_type": "display_data"
    }
   ],
   "source": [
    "#This scatter plot shows differnt categories of products\n",
    "sns.set(rc={\"figure.figsize\":(14, 6)})\n",
    "sns.scatterplot(df_hier['Labels'],df_hier['category'])"
   ]
  },
  {
   "cell_type": "code",
   "execution_count": 244,
   "id": "d4ffbe0b",
   "metadata": {},
   "outputs": [
    {
     "data": {
      "image/png": "[encoded data removed]",
      "text/plain": [
       "<Figure size 1800x600 with 1 Axes>"
      ]
     },
     "metadata": {},
     "output_type": "display_data"
    }
   ],
   "source": [
    "#the below bar plot shows what peple have rented cloths for different purposes\n",
    "sns.set(rc={\"figure.figsize\":(18, 6)})\n",
    "sns.countplot(data = df_hier, x = 'rented for', hue = 'Labels')\n",
    "plt.show()"
   ]
  }
 ],
 "metadata": {
  "kernelspec": {
   "display_name": "Python 3 (ipykernel)",
   "language": "python",
   "name": "python3"
  },
  "language_info": {
   "codemirror_mode": {
    "name": "ipython",
    "version": 3
   },
   "file_extension": ".py",
   "mimetype": "text/x-python",
   "name": "python",
   "nbconvert_exporter": "python",
   "pygments_lexer": "ipython3",
   "version": "3.10.9"
  }
 },
 "nbformat": 4,
 "nbformat_minor": 5
}
